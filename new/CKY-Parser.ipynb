{
 "cells": [
  {
   "attachments": {},
   "cell_type": "markdown",
   "metadata": {},
   "source": [
    "I book a hotel in Tokyo\n",
    "we fly to NewYork\n",
    "a car is expensive in Califonia\n",
    "you recommend a good restaurant in Miami\n",
    "the beach in Tokyo is beautiful\n",
    "we book a flight to NewYork and a hotel in Manhattan\n",
    "an Airbnb is cheap in Miami\n",
    "I visit the K in NewYork\n",
    "the food in Miami is delicious\n",
    "we fly to Califonia and renting a car to drive to NewYork\n",
    "the flight from NewYork to Miami is long\n",
    "I need to book a table at a fancy restaurant in Miami\n",
    "we're going to the beach in Miami and the Golden Gate Park in San Francisco\n",
    "renting a car in Miami and driving to Key West is a popular option\n",
    "the hotel in Califonia has a great view of the Cambridge"
   ]
  },
  {
   "cell_type": "code",
   "execution_count": 39,
   "metadata": {},
   "outputs": [
    {
     "name": "stdout",
     "output_type": "stream",
     "text": [
      "No\n",
      "[set(), {Pronoun}, set(), set(), set(), set(), set(), set(), set(), set(), set(), set(), set()]\n",
      "[set(), set(), {Verb}, set(), set(), set(), set(), set(), set(), set(), set(), set(), set()]\n",
      "[set(), set(), set(), {Preposition}, set(), set(), set(), set(), set(), set(), set(), set(), set()]\n",
      "[set(), set(), set(), set(), {Verb}, set(), set(), set(), set(), set(), set(), set(), set()]\n",
      "[set(), set(), set(), set(), set(), {Determiner}, set(), set(), set(), set(), set(), set(), set()]\n",
      "[set(), set(), set(), set(), set(), set(), set(), set(), set(), set(), set(), set(), set()]\n",
      "[set(), set(), set(), set(), set(), set(), set(), {Preposition}, set(), set(), set(), set(), set()]\n",
      "[set(), set(), set(), set(), set(), set(), set(), set(), {Determiner}, set(), set(), set(), set()]\n",
      "[set(), set(), set(), set(), set(), set(), set(), set(), set(), set(), set(), set(), set()]\n",
      "[set(), set(), set(), set(), set(), set(), set(), set(), set(), set(), {Noun}, set(), set()]\n",
      "[set(), set(), set(), set(), set(), set(), set(), set(), set(), set(), set(), {Preposition}, set()]\n",
      "[set(), set(), set(), set(), set(), set(), set(), set(), set(), set(), set(), set(), {ProperNoun}]\n",
      "[set(), set(), set(), set(), set(), set(), set(), set(), set(), set(), set(), set(), set()]\n"
     ]
    }
   ],
   "source": [
    "import nltk\n",
    "\n",
    "# Define a context-free grammar (can be read from a file too)\n",
    "grammar = nltk.CFG.fromstring(\"\"\"\n",
    "S -> NP VP\n",
    "NP -> Pronoun | ProperNoun | Determiner Nominal\n",
    "Nominal -> Noun | Adjective Nominal\n",
    "VP -> Verb | Verb NP | Verb NP PP | Verb PP | VP Conjunction VP\n",
    "PP -> Preposition NP\n",
    "\n",
    "ProperNoun -> 'Califonia' | 'NewYork' | 'Tokyo' | 'Miami' | 'Manhattan' | 'Airbnb' | 'K' | 'fancy'\n",
    "Determiner -> 'a' | 'an' | 'the'\n",
    "Noun -> 'hotel' | 'flight' | 'car' | 'restaurant' | 'beach' | 'food' | 'renting' | 'table' \n",
    "Adjective -> 'beautiful' | 'delicious' | 'expensive' | 'cheap' | 'long' | 'good' \n",
    "Verb -> 'book' | 'fly' | 'rent' | 'visit' | 'eat' | 'is' | 'recommend' | 'drive' | 'need'\n",
    "Preposition -> 'to' | 'in' | 'at' | 'from'\n",
    "Pronoun -> 'I' | 'we' | 'you' | 'it'\n",
    "Conjunction -> 'and' | 'or'\n",
    "\n",
    "\"\"\")\n",
    "\n",
    "# Define a sentence to parse\n",
    "sentence = input(\"Enter sentence: \").split()\n",
    "\n",
    "# Initialize the CKY parser\n",
    "parser = nltk.ChartParser(grammar)\n",
    "\n",
    "# Construct the parse table\n",
    "table = [[set() for i in range(len(sentence)+1)] for j in range(len(sentence)+1)]\n",
    "for j in range(1, len(sentence)+1):\n",
    "    table[j-1][j] = set([r.lhs() for r in grammar.productions(rhs=sentence[j-1])])\n",
    "    for i in range(j-2, -1, -1):\n",
    "        for k in range(i+1, j):\n",
    "            for b in table[i][k]:\n",
    "                for c in table[k][j]:\n",
    "                    for r in grammar.productions(rhs=(b,c)):\n",
    "                        table[i][j].add(r.lhs())\n",
    "\n",
    "# Print the parse table\n",
    "valid = True\n",
    "for i in range(0, len(sentence)):\n",
    "    if len(table[i][i+1]) == 0:\n",
    "        valid = False\n",
    "        break\n",
    "\n",
    "if valid == True:\n",
    "    print('Yes')\n",
    "else:\n",
    "    print('No')\n",
    "\n",
    "for row in table:\n",
    "    print(row)\n"
   ]
  }
 ],
 "metadata": {
  "kernelspec": {
   "display_name": "Python 3",
   "language": "python",
   "name": "python3"
  },
  "language_info": {
   "codemirror_mode": {
    "name": "ipython",
    "version": 3
   },
   "file_extension": ".py",
   "mimetype": "text/x-python",
   "name": "python",
   "nbconvert_exporter": "python",
   "pygments_lexer": "ipython3",
   "version": "3.9.13"
  },
  "orig_nbformat": 4
 },
 "nbformat": 4,
 "nbformat_minor": 2
}
